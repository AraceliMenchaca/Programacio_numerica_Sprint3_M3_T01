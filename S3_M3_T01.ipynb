{
 "cells": [
  {
   "cell_type": "markdown",
   "id": "867a6041",
   "metadata": {},
   "source": [
    "# Sprint 3\n",
    "\n",
    "## Ejercicio 1\n",
    "\n",
    "1. Crea una funcion que te ha de dar un Array de una dimensión, que además haga un resumen estadístico básico de los datos.\n",
    "\n",
    "\n",
    "2. Si detecta que el Array tiene más de una dimensión, ha de mostrar un mensaje de error.\n",
    "\n",
    "\n",
    "Primero se importa la librería Numpy y el módulo Random:"
   ]
  },
  {
   "cell_type": "code",
   "execution_count": 8,
   "id": "460cdb44",
   "metadata": {},
   "outputs": [],
   "source": [
    "import numpy as np\n",
    "from numpy import random"
   ]
  },
  {
   "cell_type": "markdown",
   "id": "f7016472",
   "metadata": {},
   "source": [
    "Se crea una función que dará como resultado un array de una dimensión.  Para lograrlo, se usa el método `randint()` del módulo `Random` con números entre 1 y 100. "
   ]
  },
  {
   "cell_type": "code",
   "execution_count": 9,
   "id": "7865ae51",
   "metadata": {},
   "outputs": [],
   "source": [
    "def array_1D(n):\n",
    "    x = np.random.randint(100, size=n)\n",
    "    return x"
   ]
  },
  {
   "cell_type": "markdown",
   "id": "42f56e6c",
   "metadata": {},
   "source": [
    "Después se crea una segunda función a la que se aplicarán las funciones de _máximo, mínimo, media y variación estándar_.\n",
    "\n",
    "Para poder detectar si es un array de más de una dimensión, se agregó la condición `if` en la que se establece si el número de dimensiones no es igual a 1 `(...ndim != 1)`entonces regresara la leyenda **\"Error: No es un array de una dimensión\".**\n",
    "\n",
    "Finalmente, se pide que se muestren los números aleatorios del `array` con las leyendas de `Maximo, Minimo, Media y Variación Estandar` para tener mayor claridad en los resultados."
   ]
  },
  {
   "cell_type": "code",
   "execution_count": 10,
   "id": "4ef3d008",
   "metadata": {},
   "outputs": [],
   "source": [
    "def resum_estadistico(array):\n",
    "    max_valor = np.max(array)\n",
    "    min_valor = np.min(array)\n",
    "    media_valor = np.mean(array)\n",
    "    var_stand_valor = np.std(array)\n",
    "    if array.ndim != 1:\n",
    "        return 'Error: No es un array de una dimensión'\n",
    "    else:\n",
    "        return array, 'Maximo ' + str(max_valor), 'Minimo ' + str(min_valor), 'Media ' + str(media_valor), 'Variació Estandar ' + str(var_stand_valor)\n",
    "    \n"
   ]
  },
  {
   "cell_type": "markdown",
   "id": "3ae46d68",
   "metadata": {},
   "source": [
    "Para llamar a ambas funciones, se crea una variable nueva que contiene a la función `array_1D()` en el que se especifica el número de valores que se desean para después llamar a la función `resum_estadistico()`."
   ]
  },
  {
   "cell_type": "code",
   "execution_count": 11,
   "id": "8676dccc",
   "metadata": {},
   "outputs": [
    {
     "data": {
      "text/plain": [
       "(array([88, 67, 30, 52, 58]),\n",
       " 'Maximo 88',\n",
       " 'Minimo 30',\n",
       " 'Media 59.0',\n",
       " 'Variació Estandar 18.952572384771415')"
      ]
     },
     "execution_count": 11,
     "metadata": {},
     "output_type": "execute_result"
    }
   ],
   "source": [
    "resultado = array_1D(5)\n",
    "resum_estadistico(resultado)"
   ]
  },
  {
   "cell_type": "markdown",
   "id": "6ec1a3ad",
   "metadata": {},
   "source": [
    "Para que la salida muestre un error, se debe crear un array de más de una dimensión y después llamar a la función `resum_estdistico()`"
   ]
  },
  {
   "cell_type": "code",
   "execution_count": 12,
   "id": "8297d043",
   "metadata": {},
   "outputs": [
    {
     "data": {
      "text/plain": [
       "'Error: No es un array de una dimensión'"
      ]
     },
     "execution_count": 12,
     "metadata": {},
     "output_type": "execute_result"
    }
   ],
   "source": [
    "array_2D = np.array([[1,2,3],[4,5,6]])\n",
    "resum_estadistico(array_2D)"
   ]
  },
  {
   "cell_type": "markdown",
   "id": "f1730e19",
   "metadata": {},
   "source": [
    "## Ejercicio 2"
   ]
  },
  {
   "cell_type": "markdown",
   "id": "025a4e06",
   "metadata": {},
   "source": [
    "1. Crea una función que te genere un cuadrante NXN de números aleatorios entre el 0 y el 100.\n",
    "\n",
    "Primero se importa el módulo `randint()` desde Random."
   ]
  },
  {
   "cell_type": "code",
   "execution_count": 17,
   "id": "749b573a",
   "metadata": {},
   "outputs": [],
   "source": [
    "from random import randint"
   ]
  },
  {
   "cell_type": "markdown",
   "id": "26787012",
   "metadata": {},
   "source": [
    "Después se crea una función que integra dos bucles `for` para iterar los elementos dentro de un rango `(range())` de la variante `fila = []` en el primer bucle y en el segundo usando el método `append()`, se da la instrucción de `randint()` que toma números aleatorios de 1 al 100."
   ]
  },
  {
   "cell_type": "code",
   "execution_count": 9,
   "id": "4fbdb973",
   "metadata": {},
   "outputs": [],
   "source": [
    "def cuadrante_NN(n):\n",
    "    matriz = []\n",
    "    for f in range(n):\n",
    "        fila = []\n",
    "        for c in range(n):\n",
    "            fila.append(randint(1,100))\n",
    "        matriz.append(fila)\n",
    "    return matriz"
   ]
  },
  {
   "cell_type": "markdown",
   "id": "2f2eb636",
   "metadata": {},
   "source": [
    "Para llamar la funcion `cuadrante_NN()` se especifica el número de arrays deseado."
   ]
  },
  {
   "cell_type": "code",
   "execution_count": 21,
   "id": "b0c99a53",
   "metadata": {},
   "outputs": [
    {
     "data": {
      "text/plain": [
       "[[57, 38, 73, 75, 43],\n",
       " [94, 6, 68, 45, 10],\n",
       " [35, 37, 32, 15, 31],\n",
       " [15, 33, 64, 28, 86],\n",
       " [41, 28, 33, 16, 32]]"
      ]
     },
     "execution_count": 21,
     "metadata": {},
     "output_type": "execute_result"
    }
   ],
   "source": [
    "cuadrante_NN(5) #output: 5 filas y 5 columnas"
   ]
  },
  {
   "cell_type": "markdown",
   "id": "be906a37",
   "metadata": {},
   "source": [
    "## Ejercicio 3\n",
    "\n",
    "1. Crea una función que dada una tabla de dos dimensiones (NxM), calcule los totales por fila y los totales por columna.\n",
    "\n",
    "Primero se llama a la librería de Numpy. "
   ]
  },
  {
   "cell_type": "code",
   "execution_count": 22,
   "id": "ae5e2d1d",
   "metadata": {},
   "outputs": [],
   "source": [
    "import numpy as np #este paso es solo para ejemplificar, no es necesario si ya se llamó antes a la librería."
   ]
  },
  {
   "cell_type": "markdown",
   "id": "70ad4563",
   "metadata": {},
   "source": [
    "Se crea una función `crear_tabla()` que contiene dos variables con la función `np.sum()` para sumar los números dentro de ese array.  La distinción entre fila y columna, se hace al especificar el `axis=` - filas es _axis=1_ y columnas es _axis=0_."
   ]
  },
  {
   "cell_type": "code",
   "execution_count": 23,
   "id": "78cfc5d8",
   "metadata": {},
   "outputs": [],
   "source": [
    "def crear_tabla(tabla):\n",
    "    sum_filas= np.sum(tabla, axis=1)\n",
    "    sum_colum = np.sum(tabla, axis=0)\n",
    "    return 'Suma de filas: ' + str(sum_filas), 'Suma de columnas' + str(sum_colum)"
   ]
  },
  {
   "cell_type": "markdown",
   "id": "c2789fc0",
   "metadata": {},
   "source": [
    "Para llamar esta función en una tabla dada de dos dimensiones (NxM), se puede hacer de dos maneras como se muestra a continuación.\n",
    "    \n",
    "Primero sólo creando el array y llamando a la función:"
   ]
  },
  {
   "cell_type": "code",
   "execution_count": 24,
   "id": "2efc7151",
   "metadata": {},
   "outputs": [
    {
     "data": {
      "text/plain": [
       "('Suma de filas: [10 26]', 'Suma de columnas[ 6  8 10 12]')"
      ]
     },
     "execution_count": 24,
     "metadata": {},
     "output_type": "execute_result"
    }
   ],
   "source": [
    "array_2D = np.array([[1,2,3,4],[5,6,7,8]])\n",
    "crear_tabla(array_2D) #este output se ve demasiado junto y desordenado."
   ]
  },
  {
   "cell_type": "markdown",
   "id": "00e39773",
   "metadata": {},
   "source": [
    "Segundo, se crea el mismo array y después una variable que contenga todo: `sum_filas, sum_colum`, la función `crear_tabla y array_2D` para una impresión más limpia y separada:"
   ]
  },
  {
   "cell_type": "code",
   "execution_count": 25,
   "id": "74933da3",
   "metadata": {},
   "outputs": [
    {
     "name": "stdout",
     "output_type": "stream",
     "text": [
      "Suma de filas: [10 26]\n",
      "Suma de columnas[ 6  8 10 12]\n"
     ]
    }
   ],
   "source": [
    "array_2D = np.array([[1,2,3,4],[5,6,7,8]])\n",
    "sum_filas, sum_colum = crear_tabla(array_2D)\n",
    "print(sum_filas)\n",
    "print(sum_colum)"
   ]
  },
  {
   "cell_type": "markdown",
   "id": "3b989fff",
   "metadata": {},
   "source": [
    "## Ejercicio 4\n",
    "\n",
    "1. Implementa manualmente una función que calcule el coeficiente de correlación.\n",
    "2. Informate sobre sus usos e interpretación.\n",
    "\n",
    "**\"El coeficiente de correlación hace algo aparentemente milagroso: colapsa un complejo conjunto de datos medidos en diferentes unidades (como altura y peso) en una sola y elegante estadística descriptiva.\"** (Charles Wheelan, Naked Statistics, 2013)\n",
    "\n",
    "Primero se deben hacer los siguientes calculos sobre las variables `altura` y `peso`."
   ]
  },
  {
   "cell_type": "code",
   "execution_count": 33,
   "id": "e480cc78",
   "metadata": {},
   "outputs": [
    {
     "name": "stdout",
     "output_type": "stream",
     "text": [
      "Media altura:  1.638\n",
      "Desviación estandar altura:  0.05635601121442143\n",
      "Media peso:  79.6\n",
      "Desviación estandaar peso:  14.235167719419396\n"
     ]
    }
   ],
   "source": [
    "#se crean las dos variables\n",
    "altura = [1.70, 1.65, 1.60, 1.55, 1.69]\n",
    "peso = [80, 63, 90, 65, 100]\n",
    "\n",
    "#se calcula la media de altura y de peso\n",
    "altura_media = np.mean(altura)\n",
    "peso_media = np.mean(peso)\n",
    "\n",
    "#se calcula la desviación estandar de ambos\n",
    "altura_std = np.std(altura)\n",
    "peso_std = np.std(peso)\n",
    "\n",
    "print('Media altura: ', altura_media)\n",
    "print('Desviación estandar altura: ', altura_std)\n",
    "print('Media peso: ', peso_media)\n",
    "print('Desviación estandaar peso: ', peso_std)"
   ]
  },
  {
   "cell_type": "markdown",
   "id": "019736d7",
   "metadata": {},
   "source": [
    "Después, para calcular el coeficiente de correlación, se deben realizar los siguientes pasos que a su vez se integrarán en una función:\n",
    "\n",
    "1. Convertir cada valor de la variable `altura` en unidades estandar: (altura - media / variación estandar)\n",
    "2. Convertir cada valor de la variable `peso` en unidades estandar: (peso - media / variación estandar)\n",
    "3. Calcular el producto de cada valor de las variables de (`peso en unidades estandar`) x (`altura en unidades estanda`)\n",
    "4. El *coeficiente de correlación* es la suma de los productos calculados anteriormente, dividido por el número de observaciones\n",
    "\n",
    "Para lograrlo, se crea una variable para `altura` y otra para `peso` que incluya un bucle `for` que itinere cada valor dentro de esa variable `len`."
   ]
  },
  {
   "cell_type": "code",
   "execution_count": 40,
   "id": "89c2c850",
   "metadata": {},
   "outputs": [
    {
     "name": "stdout",
     "output_type": "stream",
     "text": [
      "Unidad Estandar de Altura:  [1.1001488335309, 0.21293203229630323, -0.6742847689382896, -1.5615015701728865, 0.9227054732839807]\n",
      "Unidad Estandar de Peso:  [0.028099423054519537, -1.1661260567625438, 0.730584999417498, -1.0256289414899482, 1.4330705757804765]\n"
     ]
    }
   ],
   "source": [
    "altura_unidad_estandar = [(altura[i] - altura_media) / altura_std for i in range(len(altura))]\n",
    "peso_unidad_estandar = [(peso[i] - peso_media) / peso_std for i in range(len(peso))]\n",
    "\n",
    "print('Unidad Estandar de Altura: ', altura_unidad_estandar)\n",
    "print('Unidad Estandar de Peso: ', peso_unidad_estandar)"
   ]
  },
  {
   "cell_type": "markdown",
   "id": "e09d7b2b",
   "metadata": {},
   "source": [
    "Al ser los resultados demasiado grandes, se redondean usando la función `round()` en cada una de las variables y especificando que sea a 3 decimales."
   ]
  },
  {
   "cell_type": "code",
   "execution_count": 46,
   "id": "e26796fb",
   "metadata": {},
   "outputs": [
    {
     "name": "stdout",
     "output_type": "stream",
     "text": [
      "Unidad Estandar de Altura:  [1.1, 0.213, -0.674, -1.562, 0.923]\n",
      "Unidad Estandar de Peso:  [0.028, -1.166, 0.731, -1.026, 1.433]\n"
     ]
    }
   ],
   "source": [
    "altura_unidad_estandar = [round(x, 3) for x in altura_unidad_estandar]\n",
    "peso_unidad_estandar = [round(x, 3) for x in peso_unidad_estandar]\n",
    "\n",
    "print('Unidad Estandar de Altura: ', altura_unidad_estandar)\n",
    "print('Unidad Estandar de Peso: ', peso_unidad_estandar)"
   ]
  },
  {
   "cell_type": "markdown",
   "id": "b2b72faf",
   "metadata": {},
   "source": [
    "Para el paso 3, se multiplican los valores de las variables de `unidad estandar`. Para lograrlo se usa `[i]` para acceder a cada uno de los valores dentro de la variable, al mismo tiempo que se iteran con el bucle `for`.  Esta vez hecho, se redondea desde esta variable."
   ]
  },
  {
   "cell_type": "code",
   "execution_count": 47,
   "id": "f28af987",
   "metadata": {},
   "outputs": [
    {
     "name": "stdout",
     "output_type": "stream",
     "text": [
      "Product de altura y peso:  [0.031, -0.248, -0.493, 1.603, 1.323]\n"
     ]
    }
   ],
   "source": [
    "producto_altura_peso = [round(peso_unidad_estandar[i] * altura_unidad_estandar[i], 3) for i in range(len(altura))]\n",
    "\n",
    "print('Producto de altura y peso: ', producto_altura_peso)"
   ]
  },
  {
   "cell_type": "markdown",
   "id": "97d05c1c",
   "metadata": {},
   "source": [
    "Para el paso 4, primero se suman los productos obtenidos con la función `np.sum()` de Numpy."
   ]
  },
  {
   "cell_type": "code",
   "execution_count": 48,
   "id": "ad30524e",
   "metadata": {},
   "outputs": [
    {
     "name": "stdout",
     "output_type": "stream",
     "text": [
      "2.216\n"
     ]
    }
   ],
   "source": [
    "suma_productos = np.sum(producto_altura_peso)\n",
    "\n",
    "print(suma_productos)"
   ]
  },
  {
   "cell_type": "markdown",
   "id": "34fd607d",
   "metadata": {},
   "source": [
    "Y para terminar, se divide el resultado de la suma entre el número de elementos dentro de las variables originales de `peso` y `altura` para después crear una variable que redondeé todo a tres decimales."
   ]
  },
  {
   "cell_type": "code",
   "execution_count": 52,
   "id": "bdb83d9b",
   "metadata": {},
   "outputs": [
    {
     "name": "stdout",
     "output_type": "stream",
     "text": [
      "Coeficiente de Correlación:  0.443\n"
     ]
    }
   ],
   "source": [
    "coeficiente_correlacion = suma_productos/5\n",
    "coeficiente_correlacion_redondeado = round(coeficiente_correlacion, 3)\n",
    "\n",
    "print('Coeficiente de Correlación: ',coeficiente_correlacion_redondeado)"
   ]
  },
  {
   "cell_type": "markdown",
   "id": "b5c53c73",
   "metadata": {},
   "source": [
    "Después de haber hecho todos los calculos manualmente, se unen en la función `coef_corr`que dará como resultado el _coeficiente de correlación_."
   ]
  },
  {
   "cell_type": "code",
   "execution_count": 1,
   "id": "9011722e",
   "metadata": {},
   "outputs": [],
   "source": [
    "def coef_corr (altura,peso):\n",
    "    altura_media = np.mean(altura)\n",
    "    peso_media = np.mean(peso)\n",
    "    altura_std = np.std(altura)\n",
    "    peso_std = np.std(peso)\n",
    "    altura_unidad_estandar = [(altura[i] - altura_media) / altura_std for i in range(len(altura))]\n",
    "    peso_unidad_estandar = [(peso[i] - peso_media) / peso_std for i in range(len(peso))]\n",
    "    altura_unidad_estandar = [round(x, 3) for x in altura_unidad_estandar]\n",
    "    peso_unidad_estandar = [round(x, 3) for x in peso_unidad_estandar]\n",
    "    producto_altura_peso = [round(peso_unidad_estandar[i] * altura_unidad_estandar[i], 3) for i in range(len(altura))]\n",
    "    suma_productos = np.sum(producto_altura_peso)\n",
    "    coeficiente_correlacion = suma_productos/len(altura)\n",
    "    coeficiente_correlacion_redondeado = round(coeficiente_correlacion, 3)\n",
    "    return coeficiente_correlacion_redondeado\n",
    "    "
   ]
  },
  {
   "cell_type": "markdown",
   "id": "3f08912f",
   "metadata": {},
   "source": [
    "Se llama a la función `coef_corr` con los datos de las variables originales:"
   ]
  },
  {
   "cell_type": "code",
   "execution_count": 58,
   "id": "5b7a044f",
   "metadata": {},
   "outputs": [
    {
     "data": {
      "text/plain": [
       "0.443"
      ]
     },
     "execution_count": 58,
     "metadata": {},
     "output_type": "execute_result"
    }
   ],
   "source": [
    "altura = [1.70, 1.65, 1.60, 1.55, 1.69]\n",
    "peso = [80, 63, 90, 65, 100]\n",
    "\n",
    "coef_corr(altura, peso)"
   ]
  },
  {
   "cell_type": "markdown",
   "id": "666aefe1",
   "metadata": {},
   "source": [
    "El coeficiente de correlación de 0.443 indica que hay una relación **positiva moderada** entre el `peso` y la `altura`. Esto significa que hay una tendencia general de que las personas más altas tienden a pesar más.\n",
    "\n",
    "Sin embargo, sin más contexto que saber cuál es el coeficiente de correlación entre estas variantes, no se puede puede concluir que entre más alta sea una persona, tendrá mayor peso; o que la altura es la causa de tener mayor peso; o viceversa.  Esto es porque hay varios factores externos que influyen, como la dieta y las costumbres alimenticias."
   ]
  },
  {
   "cell_type": "markdown",
   "id": "b43fde03",
   "metadata": {},
   "source": [
    "# FIN"
   ]
  }
 ],
 "metadata": {
  "kernelspec": {
   "display_name": "Python 3 (ipykernel)",
   "language": "python",
   "name": "python3"
  },
  "language_info": {
   "codemirror_mode": {
    "name": "ipython",
    "version": 3
   },
   "file_extension": ".py",
   "mimetype": "text/x-python",
   "name": "python",
   "nbconvert_exporter": "python",
   "pygments_lexer": "ipython3",
   "version": "3.10.9"
  },
  "varInspector": {
   "cols": {
    "lenName": 16,
    "lenType": 16,
    "lenVar": 40
   },
   "kernels_config": {
    "python": {
     "delete_cmd_postfix": "",
     "delete_cmd_prefix": "del ",
     "library": "var_list.py",
     "varRefreshCmd": "print(var_dic_list())"
    },
    "r": {
     "delete_cmd_postfix": ") ",
     "delete_cmd_prefix": "rm(",
     "library": "var_list.r",
     "varRefreshCmd": "cat(var_dic_list()) "
    }
   },
   "types_to_exclude": [
    "module",
    "function",
    "builtin_function_or_method",
    "instance",
    "_Feature"
   ],
   "window_display": false
  }
 },
 "nbformat": 4,
 "nbformat_minor": 5
}
